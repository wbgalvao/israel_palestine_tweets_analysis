{
 "cells": [
  {
   "cell_type": "code",
   "execution_count": 28,
   "metadata": {},
   "outputs": [],
   "source": [
    "import pandas as pd\n",
    "\n",
    "import nlpaug.augmenter.word as naw\n",
    "\n",
    "from typing import List"
   ]
  },
  {
   "cell_type": "code",
   "execution_count": null,
   "metadata": {},
   "outputs": [],
   "source": [
    "! mkdir tweets\n",
    "! mkdir tweets/train tweets/test\n",
    "! mkdir tweets/train/israel_support tweets/train/palestine_support\n",
    "! mkdir tweets/test/israel_support tweets/test/palestine_support"
   ]
  },
  {
   "cell_type": "code",
   "execution_count": null,
   "metadata": {},
   "outputs": [],
   "source": [
    "! wget --quiet \"https://docs.google.com/spreadsheets/d/1QG8eC_6Oqy7bHdYpjpXHyJfzs_xp7dFtkXwmfspOlw4/export\" \\\n",
    "    -O tweets/israel_x_palestine_tweets.xlsx"
   ]
  },
  {
   "cell_type": "code",
   "execution_count": 32,
   "metadata": {},
   "outputs": [],
   "source": [
    "train_tweets = pd.read_excel(\"tweets/israel_x_palestine_tweets.xlsx\", sheet_name=\"train\")"
   ]
  },
  {
   "cell_type": "code",
   "execution_count": 31,
   "metadata": {},
   "outputs": [],
   "source": [
    "AUGMENTER = naw.ContextualWordEmbsAug(model_path='./bert-base-uncased', action=\"insert\")"
   ]
  },
  {
   "cell_type": "code",
   "execution_count": 33,
   "metadata": {},
   "outputs": [],
   "source": [
    "def augment_data(row: pd.Series, index: List = [\"id\", \"text\", \"support\"]) -> pd.Series:\n",
    "    id = f\"{row.id}X\"\n",
    "    support = row.support\n",
    "    augmented_text = AUGMENTER.augment(row.text)[0]\n",
    "    augmented_data = pd.Series([id, augmented_text, support], index=index)\n",
    "    return augmented_data"
   ]
  },
  {
   "cell_type": "code",
   "execution_count": 34,
   "metadata": {},
   "outputs": [],
   "source": [
    "augmented_dataset = train_tweets.apply(lambda row: augment_data(row), axis=\"columns\")"
   ]
  },
  {
   "cell_type": "code",
   "execution_count": 38,
   "metadata": {},
   "outputs": [],
   "source": [
    "augmented_dataset.to_excel(\"tweets/israel_x_palestine_augmented_tweets.xlsx\")"
   ]
  }
 ],
 "metadata": {
  "kernelspec": {
   "display_name": ".venv",
   "language": "python",
   "name": "python3"
  },
  "language_info": {
   "codemirror_mode": {
    "name": "ipython",
    "version": 3
   },
   "file_extension": ".py",
   "mimetype": "text/x-python",
   "name": "python",
   "nbconvert_exporter": "python",
   "pygments_lexer": "ipython3",
   "version": "3.10.13"
  }
 },
 "nbformat": 4,
 "nbformat_minor": 2
}
